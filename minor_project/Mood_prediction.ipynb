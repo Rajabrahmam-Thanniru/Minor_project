{
 "cells": [
  {
   "cell_type": "code",
   "execution_count": 1,
   "id": "e233ad68",
   "metadata": {},
   "outputs": [
    {
     "name": "stdout",
     "output_type": "stream",
     "text": [
      "Data saved to E:\\minor_project\\Data\\A blog post about happiness, by Emma Bingham - Reading for Life.docx\n"
     ]
    }
   ],
   "source": [
    "import os\n",
    "import requests\n",
    "from bs4 import BeautifulSoup\n",
    "from docx import Document\n",
    "\n",
    "def clean_filename(title):\n",
    "    invalid_chars = '\\\\/:*?\"<>|'\n",
    "    cleaned_title = ''.join(c for c in title if c not in invalid_chars)\n",
    "    return cleaned_title.strip()\n",
    "\n",
    "url = \"https://blogs.exeter.ac.uk/readingforlife/2017/02/12/a-blog-post-about-happiness-by-emma-bingham/\"\n",
    "req = requests.get(url)\n",
    "soup = BeautifulSoup(req.content, \"html.parser\")\n",
    "\n",
    "title = soup.title.text\n",
    "\n",
    "doc = Document()\n",
    "doc.add_heading(title, level=1)\n",
    "\n",
    "paragraphs = soup.find_all('p')\n",
    "for paragraph in paragraphs:\n",
    "    doc.add_paragraph(paragraph.text)\n",
    "\n",
    "output_folder = \"E:\\minor_project\\Data\"\n",
    "\n",
    "if not os.path.exists(output_folder):\n",
    "    os.makedirs(output_folder)\n",
    "\n",
    "cleaned_title = clean_filename(title)\n",
    "output_doc_file = os.path.join(output_folder, f\"{cleaned_title}.docx\")\n",
    "doc.save(output_doc_file)\n",
    "\n",
    "print(f\"Data saved to {output_doc_file}\")\n",
    "\n"
   ]
  },
  {
   "cell_type": "code",
   "execution_count": 2,
   "id": "ef95e586",
   "metadata": {},
   "outputs": [
    {
     "name": "stdout",
     "output_type": "stream",
     "text": [
      "Predicted Mood: Happy\n"
     ]
    }
   ],
   "source": [
    "from nltk.tokenize import word_tokenize\n",
    "from nltk.corpus import stopwords\n",
    "from nltk.sentiment.vader import SentimentIntensityAnalyzer\n",
    "from docx import Document\n",
    "\n",
    "def preprocess_text(text):\n",
    "    tokens = word_tokenize(text)\n",
    "    stop_words = set(stopwords.words('english'))\n",
    "    filtered_tokens = [word for word in tokens if word.lower() not in stop_words]\n",
    "    preprocessed_text = ' '.join(filtered_tokens)\n",
    "    return preprocessed_text\n",
    "\n",
    "def predict_mood(document_path):\n",
    "    doc = Document(document_path)\n",
    "    content = ''\n",
    "    for paragraph in doc.paragraphs:\n",
    "        content += paragraph.text + ' '\n",
    "    preprocessed_content = preprocess_text(content)\n",
    "    sid = SentimentIntensityAnalyzer()\n",
    "    sentiment_scores = sid.polarity_scores(preprocessed_content)\n",
    "    if sentiment_scores['compound'] >= 0.3:\n",
    "        return 'Happy'\n",
    "    elif sentiment_scores['compound'] <= -0.3:\n",
    "        return 'Sad'\n",
    "    else:\n",
    "       \n",
    "        if 'love' in preprocessed_content.lower():\n",
    "            return 'Love'\n",
    "        else:\n",
    "            return 'Neutral'\n",
    "          \n",
    "document_path = output_doc_file\n",
    "predicted_mood = predict_mood(document_path)\n",
    "print(\"Predicted Mood:\", predicted_mood)\n"
   ]
  },
  {
   "cell_type": "code",
   "execution_count": 3,
   "id": "c69542dc",
   "metadata": {},
   "outputs": [
    {
     "data": {
      "text/html": [
       "<div>\n",
       "<style scoped>\n",
       "    .dataframe tbody tr th:only-of-type {\n",
       "        vertical-align: middle;\n",
       "    }\n",
       "\n",
       "    .dataframe tbody tr th {\n",
       "        vertical-align: top;\n",
       "    }\n",
       "\n",
       "    .dataframe thead th {\n",
       "        text-align: right;\n",
       "    }\n",
       "</style>\n",
       "<table border=\"1\" class=\"dataframe\">\n",
       "  <thead>\n",
       "    <tr style=\"text-align: right;\">\n",
       "      <th></th>\n",
       "      <th>name</th>\n",
       "      <th>artist</th>\n",
       "      <th>mood</th>\n",
       "      <th>popularity</th>\n",
       "    </tr>\n",
       "  </thead>\n",
       "  <tbody>\n",
       "    <tr>\n",
       "      <th>0</th>\n",
       "      <td>Pumped Up Kicks</td>\n",
       "      <td>Foster The People</td>\n",
       "      <td>Happy</td>\n",
       "      <td>84</td>\n",
       "    </tr>\n",
       "    <tr>\n",
       "      <th>1</th>\n",
       "      <td>Africa</td>\n",
       "      <td>TOTO</td>\n",
       "      <td>Happy</td>\n",
       "      <td>84</td>\n",
       "    </tr>\n",
       "    <tr>\n",
       "      <th>2</th>\n",
       "      <td>Take on Me</td>\n",
       "      <td>a-ha</td>\n",
       "      <td>Happy</td>\n",
       "      <td>84</td>\n",
       "    </tr>\n",
       "    <tr>\n",
       "      <th>3</th>\n",
       "      <td>Highway to Hell</td>\n",
       "      <td>AC/DC</td>\n",
       "      <td>Happy</td>\n",
       "      <td>83</td>\n",
       "    </tr>\n",
       "    <tr>\n",
       "      <th>4</th>\n",
       "      <td>Here Comes The Sun - Remastered 2009</td>\n",
       "      <td>The Beatles</td>\n",
       "      <td>Happy</td>\n",
       "      <td>83</td>\n",
       "    </tr>\n",
       "  </tbody>\n",
       "</table>\n",
       "</div>"
      ],
      "text/plain": [
       "                                   name             artist   mood  popularity\n",
       "0                       Pumped Up Kicks  Foster The People  Happy          84\n",
       "1                                Africa               TOTO  Happy          84\n",
       "2                            Take on Me               a-ha  Happy          84\n",
       "3                       Highway to Hell              AC/DC  Happy          83\n",
       "4  Here Comes The Sun - Remastered 2009        The Beatles  Happy          83"
      ]
     },
     "metadata": {},
     "output_type": "display_data"
    }
   ],
   "source": [
    "import pandas as pd\n",
    "\n",
    "\n",
    "Music_Player = pd.read_csv(\"E:\\minor_project\\Data\\data_moods.csv\")\n",
    "Music_Player = Music_Player[['name', 'artist', 'mood', 'popularity']]\n",
    "\n",
    "def Recommend_Songs(pred_class):\n",
    "    if pred_class == 'Happy':\n",
    "        Play = Music_Player[Music_Player['mood'] == 'Happy']\n",
    "        Play = Play.sort_values(by=\"popularity\", ascending=False)\n",
    "        Play = Play[:5].reset_index(drop=True)\n",
    "        display(Play)\n",
    "    elif pred_class == 'Sad':\n",
    "        Play = Music_Player[Music_Player['mood'] == 'Sad']\n",
    "        Play = Play.sort_values(by=\"popularity\", ascending=False)\n",
    "        Play = Play[:5].reset_index(drop=True)\n",
    "        display(Play)\n",
    "\n",
    "\n",
    "current_mood = predicted_mood \n",
    "Recommend_Songs(current_mood)\n"
   ]
  },
  {
   "cell_type": "code",
   "execution_count": null,
   "id": "ad9236fe",
   "metadata": {},
   "outputs": [],
   "source": []
  },
  {
   "cell_type": "code",
   "execution_count": null,
   "id": "9d5f89de-a9a0-47f3-bc16-4f6c5c3cd32f",
   "metadata": {},
   "outputs": [],
   "source": []
  }
 ],
 "metadata": {
  "kernelspec": {
   "display_name": "Python 3 (ipykernel)",
   "language": "python",
   "name": "python3"
  },
  "language_info": {
   "codemirror_mode": {
    "name": "ipython",
    "version": 3
   },
   "file_extension": ".py",
   "mimetype": "text/x-python",
   "name": "python",
   "nbconvert_exporter": "python",
   "pygments_lexer": "ipython3",
   "version": "3.11.5"
  }
 },
 "nbformat": 4,
 "nbformat_minor": 5
}
